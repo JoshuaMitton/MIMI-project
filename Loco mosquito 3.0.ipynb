{
 "cells": [
  {
   "cell_type": "markdown",
   "metadata": {},
   "source": [
    "# Loco Mosquito\n",
    "\n",
    "The program to extract, clean and prepare the IR spectra from mosquitoes. \n",
    "\n"
   ]
  },
  {
   "cell_type": "markdown",
   "metadata": {},
   "source": [
    "### Changelog\n",
    "\n",
    "    1.0 - Original program\n",
    "    1.1 - Adapted for new file names with country code\n",
    "        - Added code to avoid processing files with wrong names\n",
    "        - Solved bug in the code that plots a spectrum and the selected wavenumbers\n",
    "    2.0 - Added an algorithm to being able to read files with names without country code\n",
    "        - It plots a bar and wiskers graph with the results of the mosquitoes.\n",
    "        - Added an algorithm to detect when the selected wavenumbers are out of the measured ranges\n",
    "    3.0 - Supports .mzz files\n",
    "        \n",
    "\n",
    "\n",
    "\n",
    "### Useful packages"
   ]
  },
  {
   "cell_type": "markdown",
   "metadata": {},
   "source": [
    "First of all, we are going to load all the packages that we will need for our program"
   ]
  },
  {
   "cell_type": "code",
   "execution_count": null,
   "metadata": {},
   "outputs": [],
   "source": [
    "import numpy as np #we will use numpy to process the data\n",
    "import os \n",
    "import time\n",
    "import csv\n",
    "import matplotlib.pyplot as plt\n",
    "import zipfile\n",
    "import zlib"
   ]
  },
  {
   "cell_type": "markdown",
   "metadata": {},
   "source": [
    "### Loading the spectra"
   ]
  },
  {
   "cell_type": "markdown",
   "metadata": {},
   "source": [
    "All spectra to be processed must be stored in a text file, in the same folder and with a descriptive name of their status, which must follow the following format:\n",
    "\n",
    "```\n",
    "kk-C-xxD-yy-888888-555555-zz.dpt\n",
    "```\n",
    "\n",
    "where:\n",
    "\n",
    "* **kk**: Species code\n",
    "    * **AR**: _Anopheles arabiensis_\n",
    "    * **AG**: _Anopheles gambiae_\n",
    "    * **AC**: _Anopheles coluzzi_\n",
    "* **C**: Country code\n",
    "    * **B**: Burkina Faso\n",
    "    * **T**: Tanzania\n",
    "    * **S**: Scotland\n",
    "* **xx**: Age of the mosquito in days\n",
    "* **yy**: Status of the mosquito\n",
    "    * **BF**: Blood fed\n",
    "    * **SF**: Sugar fed\n",
    "    * **UF**: Unfed\n",
    "    * **GR**: Gravid\n",
    "* **888888**: Date the mosquito was measured\n",
    "* **555555**: Date the mosquito was collected\n",
    "* **zz**: Mosquito number identifier\n",
    "\n",
    "Although it is also possible to read files with the old naming system without country code:\n",
    "\n",
    "```\n",
    "kk-xxD-yy-888888-555555-zz.dpt\n",
    "```"
   ]
  },
  {
   "cell_type": "markdown",
   "metadata": {
    "collapsed": true
   },
   "source": [
    "Here is the algorithm to load the spectra, but first you must indicate the folder location. To do this, the easiest way to proceed is just going to a file in the folder where the spectra are, right-click on it, select properties, and, then, copy the text at the right of \"Location:\". Remember to add `\\` at the end if you are using Windows or `/` if you are using an UNIX os"
   ]
  },
  {
   "cell_type": "code",
   "execution_count": null,
   "metadata": {},
   "outputs": [],
   "source": [
    "spectra_path = input(\"Please, indicate the folder location: \")"
   ]
  },
  {
   "cell_type": "code",
   "execution_count": null,
   "metadata": {},
   "outputs": [],
   "source": [
    "a = time.time()\n",
    "# find all the .mzz and .dpt files in the folder and dicard the files with wrong names\n",
    "dptfiles = [f for f in os.listdir(spectra_path) if f[-3:] == \"dpt\"]\n",
    "mzzfiles = [f for f in os.listdir(spectra_path) if f[-3:] == \"mzz\"]\n",
    "if len(mzzfiles) > 0:\n",
    "    spectra_names = mzzfiles\n",
    "    mzzq = True\n",
    "else:\n",
    "    spectra_names = dptfiles\n",
    "    mzzq = False\n",
    "matrix = []\n",
    "list_ages = []\n",
    "list_status = []\n",
    "list_species = []\n",
    "# Now we load the spectra in a matrix\n",
    "for i in spectra_names:\n",
    "    # This is the code to avoid errors with files using different naming systems\n",
    "    if len(i.split(\".\")[0]) == 25:\n",
    "        pl = 2\n",
    "    elif len(i.split(\".\")[0]) == 23:\n",
    "        pl = 0\n",
    "    else:\n",
    "        continue\n",
    "    # Now we read the species from the name\n",
    "    species = i[:2]\n",
    "    if species in list_species:\n",
    "        pass\n",
    "    else:\n",
    "        list_species.append(species)\n",
    "    # Then the age (from here everything depends on the naming system)\n",
    "    age = i[3+pl:5+pl]\n",
    "    if age in list_ages:\n",
    "        pass\n",
    "    else:\n",
    "        list_ages.append(age)\n",
    "    # Then the status:\n",
    "    status = i[7+pl:9+pl]\n",
    "    if status in list_status:\n",
    "        pass\n",
    "    else:\n",
    "        list_status.append(status)\n",
    "    # Then the time that the mosquitoes where stored\n",
    "    colday = time.mktime(time.strptime(i[10+pl:16+pl],\"%y%m%d\"))\n",
    "    mesday = time.mktime(time.strptime(i[17+pl:23+pl],\"%y%m%d\"))\n",
    "    stime = abs((mesday - colday) / (3600 * 24))\n",
    "    # And finally the spectrum and its characteristics\n",
    "    if mzzq == False:\n",
    "        with open(spectra_path + \"/\" + i, 'rb') as tmp:\n",
    "            avmi = (line.replace(b'\\t',b',') for line in tmp)\n",
    "            spectrum = np.genfromtxt(avmi, delimiter=',')\n",
    "        start = spectrum[0,0]\n",
    "        end = spectrum[-1,0]\n",
    "        ls = len(spectrum)\n",
    "        spectrum = np.transpose(spectrum)[1]    \n",
    "    else:\n",
    "        with zipfile.ZipFile(spectra_path + \"/\" + i) as myzip:\n",
    "            with myzip.open(i[:-4] + \".tmp\") as myfile:\n",
    "                avmi = (line.replace(b'\\t',b',') for line in myfile)\n",
    "                spectrum = np.genfromtxt(avmi, delimiter=',')\n",
    "        start = spectrum[0]\n",
    "        end = spectrum[1]\n",
    "        ls = int(spectrum[2])\n",
    "        spectrum = spectrum[3:]\n",
    "    matrix.append([species,age,status,stime,[start,end,ls],spectrum])\n",
    "list_species = sorted(list_species)\n",
    "list_ages = sorted(list_ages)\n",
    "list_status = sorted(list_status)\n",
    "b = time.time()\n",
    "print(\"This last process has lasted \" + str(round(b-a,3)) + \" s.\")"
   ]
  },
  {
   "cell_type": "markdown",
   "metadata": {},
   "source": [
    "The following code allows us to count the number of mosquitoes for each specie, age, and status. "
   ]
  },
  {
   "cell_type": "code",
   "execution_count": null,
   "metadata": {},
   "outputs": [],
   "source": [
    "mos_acc = np.zeros((len(list_species),len(list_status),len(list_ages)),dtype=int) # We create an empty table for the \n",
    "for i in range(len(matrix)):\n",
    "    x = list_species.index(matrix[i][0])\n",
    "    y = list_status.index(matrix[i][2])\n",
    "    z = list_ages.index(matrix[i][1])\n",
    "    mos_acc[x][y][z] += 1 \n",
    "    \n",
    "# We show it in a beautiful way\n",
    "width = ((len(list_ages) + 1) * 5) - 2\n",
    "print()\n",
    "for i in range(mos_acc.shape[0]):\n",
    "    print(\" \" * (round(width/2) -2) + list_species[i])\n",
    "    print(\"=\" * width)\n",
    "    print(\"    \"+'   '.join(map(str, list_ages))) \n",
    "    print(\"-\" * width)\n",
    "    for j in range(mos_acc.shape[1]):\n",
    "        print(list_status[j] + \" \" + \"  \".join([\"%3.0f\" % dx for dx in mos_acc[i][j]]))\n",
    "    print()"
   ]
  },
  {
   "cell_type": "markdown",
   "metadata": {},
   "source": [
    "## Detection of bad spectra"
   ]
  },
  {
   "cell_type": "markdown",
   "metadata": {},
   "source": [
    "### Spectra with low intensity"
   ]
  },
  {
   "cell_type": "markdown",
   "metadata": {},
   "source": [
    "If the mosquito was not well placed at the ATR's crystal, the intensity of the whole spectrum is small. Our experience says that we can use as reference the small plateau between 400 and 500 wavenumbers that the mosquito spectra usually have. Since, the spectrometer with ZnSe optics only can reach to 500 wavenumbers, it doesn matter if we extend this range to 600 cm<sup>-1</sup>. Then if the average of this reference is smaller than 0.11, the spectrum doesn't have enough quality to be scaled and, then, of course, employed."
   ]
  },
  {
   "cell_type": "code",
   "execution_count": null,
   "metadata": {},
   "outputs": [],
   "source": [
    "# A list of the discarted spectra will be collected:\n",
    "bad_spectra = []\n",
    "for i in range(len(matrix)):\n",
    "    # first we calculate the position of the points that comprise that section of the spectrum\n",
    "    if matrix[i][4][1] < 600 and matrix[i][4][1] > 400:\n",
    "        sta = int(round((((matrix[i][4][2] - 1) / (matrix[i][4][1] - matrix[i][4][0])) * (600 - matrix[i][4][0])) + 1)) - 1\n",
    "        end = matrix[i][4][2]\n",
    "    elif matrix[i][4][1] <= 400:\n",
    "        sta = int(round((((matrix[i][4][2] - 1) / (matrix[i][4][1] - matrix[i][4][0])) * (600 - matrix[i][4][0])) + 1)) - 1\n",
    "        end = int(round((((matrix[i][4][2] - 1) / (matrix[i][4][1] - matrix[i][4][0])) * (400 - matrix[i][4][0])) + 1)) - 1\n",
    "    else:\n",
    "        sta = 0 # if the spectrum doesn't reach 600 cm-1 we cannot prove if the spectrum has enough intensity\n",
    "        raise Exception(\"The spectrum {} doesn't reach 600 cm-1\".format(spectra_names[1]))\n",
    "    # Now we check the intensity of the spectra in that region. If is not over 0.1 we discard the spectrum\n",
    "    if np.average(matrix[i][5][sta:end]) < 0.11:\n",
    "        bad_spectra.append(\"LI: \" + spectra_names[i])\n",
    "        matrix[i] = None\n",
    "if (bad_spectra) == 1:\n",
    "    print(\"1 spectrum has been discarded because its low intensity\")\n",
    "else:\n",
    "    print(str(len(bad_spectra)) + \" spectra have been discarded because their low intensity\")"
   ]
  },
  {
   "cell_type": "markdown",
   "metadata": {},
   "source": [
    "### Spectra with atmospheric interferences"
   ]
  },
  {
   "cell_type": "markdown",
   "metadata": {},
   "source": [
    "If the spectra were measured after the change of the beamspliter or after installing the ATR and the background was not correctly measured, the spectra will be with the interference of the water and CO<sub>2</sub> spectra. In the case of water vapour, its IR spectrum has three bands very noisy: one between 4000 and 3400 cm<sup>-1</sup>, other between 2200 and 1300 cm<sup>-1</sup> and the last one starts to appear below 800 cm<sup>-1</sup>. Because the second band appears exactly were the most interesting bands of the mosquitoes are, we are going to use the first band to detect the spectra contaminated by the water vapor and remove it from our data. In order to do that we check how smooth are the spectra between 3900 and 3500 cm<sup>-1</sup>, fitting that region to a polynomial. Only the spectra without noise will fit well."
   ]
  },
  {
   "cell_type": "code",
   "execution_count": null,
   "metadata": {},
   "outputs": [],
   "source": [
    "bs = 0 # counter for the number of spectra discarderd\n",
    "\n",
    "# Now we define a function to calculate the R-squared coefficient of the fitting of our data to a polynomial\n",
    "def rs_pf(x, y, degree):\n",
    "    coeffs = np.polyfit(x, y, degree)\n",
    "    # r-squared\n",
    "    p = np.poly1d(coeffs)\n",
    "    # fit values, and mean\n",
    "    yhat = p(x)                         # or [p(z) for z in x]\n",
    "    ybar = np.sum(y)/len(y)          # or sum(y)/len(y)\n",
    "    ssreg = np.sum((yhat-ybar)**2)   # or sum([ (yihat - ybar)**2 for yihat in yhat])\n",
    "    sstot = np.sum((y - ybar)**2)    # or sum([ (yi - ybar)**2 for yi in y])\n",
    "    results = ssreg / sstot\n",
    "\n",
    "    return results\n",
    "\n",
    "# Here take that the section of the data between 3900 and 3500 cm-1 and check if it fits well to a 5th degree polinomial\n",
    "for i in range(len(matrix)):\n",
    "    if matrix[i]: #to check if we have spectra\n",
    "        # Now one would spect that the spectrum will reach 3900 so the program will not check it out.\n",
    "        sta = int(round((((matrix[i][4][2] - 1) / (matrix[i][4][1] - matrix[i][4][0])) * (3900 - matrix[i][4][0])) + 1)) - 1\n",
    "        end = int(round((((matrix[i][4][2] - 1) / (matrix[i][4][1] - matrix[i][4][0])) * (3500 - matrix[i][4][0])) + 1)) - 1\n",
    "        # we take that data:\n",
    "        yd = matrix[i][5][sta:end]\n",
    "        xd = list(range(len(yd)))\n",
    "        rs = rs_pf(xd,yd,5)\n",
    "        # And now, if the fitting is bad, we discard the spectrum\n",
    "        if rs < 0.99:\n",
    "            bs +=1\n",
    "            bad_spectra.append(\"AI: \" + spectra_names[i])\n",
    "            matrix[i] = None\n",
    "if (bs) == 1:\n",
    "    print(\"1 spectrum has been discarded because has atmospheric interferences\")\n",
    "else:\n",
    "    print(str(bs) + \" spectra have been discarded because have atmospheric interferences\")   "
   ]
  },
  {
   "cell_type": "markdown",
   "metadata": {},
   "source": [
    "### Spectra shifted by the anvil"
   ]
  },
  {
   "cell_type": "markdown",
   "metadata": {},
   "source": [
    "Sometimes, when you are measuring a mosquito, the mosquito moves out of the ATR crystal and what you get is a plain spectrum without features (apart from CO<sub>2</sub> bands) but with high intensity. Sometimes these spectra pass the previous filters and it is necessary to remove them. To do it that we are going to do is to select the wavenumber with less signal from the mosquito (this wavenumber is usually 1900 cm<sup>-1</sup>) and look for outliers at that frequency."
   ]
  },
  {
   "cell_type": "code",
   "execution_count": null,
   "metadata": {},
   "outputs": [],
   "source": [
    "bs = 0 # counter for the number of spectra discarderd \n",
    "# we calculate the fences of the data set based in a value we can choose (in statistics 1.5 times\n",
    "# the interquartile range is the inner fence and 3 time is the outer fence)\n",
    "l = 1.5\n",
    "# We look for the point at 1900 cm-1 and add it to the list of intensities\n",
    "li = []\n",
    "for i in range(len(matrix)):\n",
    "    if matrix[i]: #to check if we have spectra\n",
    "        # Now one would spect that the spectrum will reach 3900 so the program will not check it out.\n",
    "        sta = int(round((((matrix[i][4][2] - 1) / (matrix[i][4][1] - matrix[i][4][0])) * (1900 - matrix[i][4][0])) + 1)) - 1\n",
    "        li.append(matrix[i][5][sta])\n",
    "q3, q1 = np.percentile(li, [75 ,25])\n",
    "ir = q3 - q1\n",
    "for i in range(len(matrix)):\n",
    "    if matrix[i]: #to check if we have spectra\n",
    "        sta = int(round((((matrix[i][4][2] - 1) / (matrix[i][4][1] - matrix[i][4][0])) * (1900 - matrix[i][4][0])) + 1)) - 1\n",
    "        if matrix[i][5][sta] > (l * ir + q3) or matrix[i][5][sta] < (q1 - l * ir):\n",
    "            bs +=1\n",
    "            bad_spectra.append(\"SA: \" + spectra_names[i])\n",
    "            matrix[i] = None \n",
    "if (bs) == 1:\n",
    "    print(\"1 spectrum has been discarded because it was distorted by the anvil\")\n",
    "else:\n",
    "    print(str(bs) + \" spectra have been discarded because they were distorted by the anvil\")  "
   ]
  },
  {
   "cell_type": "markdown",
   "metadata": {},
   "source": [
    "### Number of mosquitoes after the filtering"
   ]
  },
  {
   "cell_type": "code",
   "execution_count": null,
   "metadata": {},
   "outputs": [],
   "source": [
    "mos_acc = np.zeros((len(list_species),len(list_status),len(list_ages)),dtype=int) # We create an empty table for the \n",
    "for i in range(len(matrix)):\n",
    "    if matrix[i]:\n",
    "        x = list_species.index(matrix[i][0])\n",
    "        y = list_status.index(matrix[i][2])\n",
    "        z = list_ages.index(matrix[i][1])\n",
    "        mos_acc[x][y][z] += 1 \n",
    "    \n",
    "# We show it in a beautiful way\n",
    "width = ((len(list_ages) + 1) * 5) - 2\n",
    "print()\n",
    "for i in range(mos_acc.shape[0]):\n",
    "    print(\" \" * (round(width/2) -2) + list_species[i])\n",
    "    print(\"=\" * width)\n",
    "    print(\"    \"+'   '.join(map(str, list_ages))) \n",
    "    print(\"-\" * width)\n",
    "    for j in range(mos_acc.shape[1]):\n",
    "        print(list_status[j] + \" \" + \"  \".join([\"%3.0f\" % dx for dx in mos_acc[i][j]]))\n",
    "    print()"
   ]
  },
  {
   "cell_type": "markdown",
   "metadata": {},
   "source": [
    "## Selection of the wavenumbers and data extraction"
   ]
  },
  {
   "cell_type": "markdown",
   "metadata": {},
   "source": [
    "Now, we proceed to finish the task extracting the intensity of the remaining spectra at the wavenumbers that we want. We just need to indicate those wavenumbers at the next list:"
   ]
  },
  {
   "cell_type": "code",
   "execution_count": null,
   "metadata": {},
   "outputs": [],
   "source": [
    "wns = [3855, 3400, 3275, 2922, 2853, 1900, 1745, 1635, 1539, 1457, 1306, 1154, 1076, 1027, 880, 525, 401]"
   ]
  },
  {
   "cell_type": "markdown",
   "metadata": {},
   "source": [
    "We can see in a spectrum the wavenumbers selected"
   ]
  },
  {
   "cell_type": "code",
   "execution_count": null,
   "metadata": {},
   "outputs": [],
   "source": [
    "# We select a random spectrum:\n",
    "n = np.random.randint(0,len(matrix)-1)\n",
    "while not matrix[n]:\n",
    "    n = np.random.randint(0,len(matrix)-1)\n",
    "\n",
    "# we prepare the data\n",
    "a = matrix[n][4][0]\n",
    "b = matrix[n][4][1]\n",
    "c = matrix[n][4][2]\n",
    "xd = [a - x/c * (a-b) for x in range(c)]\n",
    "yd = matrix[n][5]\n",
    "\n",
    "# we draw the plot\n",
    "plt.figure(figsize=(14,7))\n",
    "plt.plot(xd,yd)\n",
    "plt.xlim(a, b)\n",
    "\n",
    "# and the selected wavenumbers\n",
    "for i in wns:\n",
    "    plt.axvline(x=i, c='black', lw=1)\n",
    "    \n",
    "plt.xlabel('Wavenumber')\n",
    "plt.ylabel('Absorbance')\n",
    "plt.title('Selected Wavenumbers')\n",
    "\n",
    "plt.show()"
   ]
  },
  {
   "cell_type": "markdown",
   "metadata": {},
   "source": [
    "And now, the following algorithm will extract from the spectra the desired intensities:"
   ]
  },
  {
   "cell_type": "code",
   "execution_count": null,
   "metadata": {},
   "outputs": [],
   "source": [
    "# We start the timer\n",
    "a = time.time()\n",
    "# We define the variable that will contain the final data\n",
    "fida = []\n",
    "csc = 0\n",
    "# And start the algorithm to extract the info\n",
    "for i in matrix:\n",
    "    # If that item exist\n",
    "    if i:\n",
    "        # we count the number of spectra that are removed because are too short for the range of wavenumbers selected\n",
    "        if i[4][0] > wns[0] and i[4][1] < wns[-1]:\n",
    "            pos = []\n",
    "            for j in wns:\n",
    "                pos.append(int(round((((i[4][2] - 1) / (i[4][1] - i[4][0])) * (j - i[4][0])) + 1)) - 1)\n",
    "            lint = []\n",
    "            for k in pos:\n",
    "                lint.append(i[5][k])\n",
    "            fida.append([i[0], i[1], i[2],str(int(i[3]))] + lint)\n",
    "            fida = sorted(fida)\n",
    "        else:\n",
    "            csc += 1\n",
    "fida.insert(0,[\"Species\",\"Age\",\"Status\",\"StoTime\"] + wns)\n",
    "if (csc) == 0:\n",
    "    pass\n",
    "elif (csc) == 1:\n",
    "    print(\"1 spectrum has been discarded because was shorter than the selected wavenumbers\")\n",
    "else:\n",
    "    print(str(csc) + \" spectra have been discarded because were shorter than the selected wavenumbers\")  \n",
    "b = time.time()\n",
    "print(\"This last process has lasted \" + str(round(b-a,3)) + \" s.\")"
   ]
  },
  {
   "cell_type": "markdown",
   "metadata": {},
   "source": [
    "## Saving the matrix"
   ]
  },
  {
   "cell_type": "markdown",
   "metadata": {},
   "source": [
    "Now we export the matrix with the info in the same folder where the data were collected"
   ]
  },
  {
   "cell_type": "code",
   "execution_count": null,
   "metadata": {},
   "outputs": [],
   "source": [
    "with open(spectra_path + \"mosquitos.dat\", 'w') as file:\n",
    "    sc = csv.writer(file, delimiter='\\t')\n",
    "    for i in fida:\n",
    "            sc.writerow(i)"
   ]
  },
  {
   "cell_type": "markdown",
   "metadata": {},
   "source": [
    "## Optional: Plotting the results"
   ]
  },
  {
   "cell_type": "markdown",
   "metadata": {},
   "source": [
    "First, we select the data that we want to include in the plot:"
   ]
  },
  {
   "cell_type": "code",
   "execution_count": null,
   "metadata": {},
   "outputs": [],
   "source": [
    "sel_spec = [\"KS\",\"AR\"]\n",
    "sel_ages = [\"01\",\"03\",\"05\",\"07\",\"09\",\"11\",\"13\",\"15\",\"17\"]\n",
    "sel_stat = [\"BF\",\"GR\",\"SF\"]"
   ]
  },
  {
   "cell_type": "code",
   "execution_count": null,
   "metadata": {},
   "outputs": [],
   "source": [
    "# Create a matrix with zeros\n",
    "bpd = [[[0] for x in range(len(sel_ages))] for y in range(len(wns))]\n",
    "# Then, we add the values for each wavenumber, each age:\n",
    "for i in fida[1:]: #to skip the first row with the info\n",
    "    if i[0] in sel_spec and i[1] in sel_ages and i[2] in sel_stat:\n",
    "        for j, k in enumerate(i[-len(wns):]):\n",
    "            bpd[j][sel_ages.index(i[1])].append(k)\n",
    "# we remove the zeros\n",
    "for k, i in enumerate(bpd):\n",
    "    for l, j in enumerate(i):\n",
    "        if j[0] == 0:\n",
    "            bpd[k][l] = bpd[k][l][1:]"
   ]
  },
  {
   "cell_type": "markdown",
   "metadata": {},
   "source": [
    "Now we plot the figure:"
   ]
  },
  {
   "cell_type": "code",
   "execution_count": null,
   "metadata": {},
   "outputs": [],
   "source": [
    "a = [i + 1 for i in range(len(sel_ages))]\n",
    "plt.figure(figsize=(18, 30))\n",
    "for i in range(len(wns)):\n",
    "    ax1 = plt.subplot(len(wns) // 3 + len(wns) % 3, 3, i+1)\n",
    "    plt.title(str(wns[i]) + \" cm$^{-1}$\")\n",
    "    ax1.boxplot(bpd[i])\n",
    "    ax1.set_xticks(a)\n",
    "    ax1.set_xticklabels(sel_ages, minor=False)\n",
    "# plt.savefig(\"C:\\\\Users\\\\Mario\\\\Google Drive\\\\160822 - Mosquitos\\\\whiskers.png\", dpi = 150)\n",
    "plt.show()\n"
   ]
  }
 ],
 "metadata": {
  "kernelspec": {
   "display_name": "Python 3",
   "language": "python",
   "name": "python3"
  },
  "language_info": {
   "codemirror_mode": {
    "name": "ipython",
    "version": 3
   },
   "file_extension": ".py",
   "mimetype": "text/x-python",
   "name": "python",
   "nbconvert_exporter": "python",
   "pygments_lexer": "ipython3",
   "version": "3.6.4"
  }
 },
 "nbformat": 4,
 "nbformat_minor": 2
}
