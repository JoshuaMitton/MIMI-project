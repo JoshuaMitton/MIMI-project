{
 "cells": [
  {
   "cell_type": "markdown",
   "metadata": {},
   "source": [
    "# Loco Mosquito\n",
    "\n",
    "The program to extract, clean and prepare the IR spectra from mosquitoes. \n",
    "\n"
   ]
  },
  {
   "cell_type": "markdown",
   "metadata": {},
   "source": [
    "### Changelog\n",
    "\n",
    "    1.0 - Original program.\n",
    "    1.1 - Adapted for new file names with country code.\n",
    "        - Added code to avoid processing files with wrong names.\n",
    "        - Solved bug in the code that plots a spectrum and the selected wavenumbers.\n",
    "    2.0 - Added an algorithm to being able to read files with names without country code.\n",
    "        - It plots a bar and wiskers graph with the results of the mosquitoes.\n",
    "        - Added an algorithm to detect when the selected wavenumbers are out of the measured ranges.\n",
    "    3.0 - Supports .mzz files.\n",
    "    3.1 - Supoorts the new (after Ifakara meeting) and the old naming systems.\n",
    "        - New wrong-mosquito-stubborn-namer-proof system.\n",
    "        - Included all the modifications from Loco Mosquito \"Mwanga edition\", including the posibility of using two wavenumbers to select ranges instead individual peaks.\n",
    "        - Corrects the selection of peaks in case they have wavenumbers that are not in the spectra range.\n",
    "    3.2 - Ready for the analysis of a large number of files in diferent folders.\n",
    "        - Makes a list with the files with wrong names.\n",
    "    3.3 - Deals with errors in the dates of the mosquitoes.\n",
    "    4.0 - Ignores the name of the ``*.tmp`` file inside the ``*.mzz`` file.\n",
    "        - Discriminates between the rearing conditions of the mosquitoes.\n",
    "        - Includes an algorithm to select what mosquitoes you want to use in the final matrix.\n",
    "    4.1 - Added in tqdm to make use of a progress bar during the long phase of loading in spectra.\n",
    "        - Modified reading the spectra to include the country. Further changes throughout shift the spectra position in the matricies to accomodate the country matrix location.\n",
    "        - Added in a sub total in the mosquito number summary display."
   ]
  },
  {
   "cell_type": "markdown",
   "metadata": {},
   "source": [
    "\n",
    "\n",
    "\n",
    "### Useful packages"
   ]
  },
  {
   "cell_type": "markdown",
   "metadata": {},
   "source": [
    "First of all, we are going to load all the packages that we will need for our program"
   ]
  },
  {
   "cell_type": "code",
   "execution_count": 1,
   "metadata": {},
   "outputs": [],
   "source": [
    "import numpy as np #we will use numpy to process the data\n",
    "import os \n",
    "import time\n",
    "import csv\n",
    "import matplotlib.pyplot as plt\n",
    "import zipfile\n",
    "import zlib\n",
    "from tqdm import tqdm"
   ]
  },
  {
   "cell_type": "markdown",
   "metadata": {},
   "source": [
    "### Loading the spectra"
   ]
  },
  {
   "cell_type": "markdown",
   "metadata": {},
   "source": [
    "All spectra to be processed must be stored in a text file or a ``*.mzz file``, in the same folder (it doesn't matter if they are organised in subfolders) and with a descriptive name of their status, which must follow the following format:\n",
    "\n",
    "```\n",
    "kk-C-xxD-yy-zz-mm-888888-555555-33.dpt (or *.mzz)\n",
    "```\n",
    "\n",
    "where:\n",
    "\n",
    "* **kk**: Species code\n",
    "    * **AA**: _Anopheles arabiensis_\n",
    "    * **AG**: _Anopheles gambiae_\n",
    "    * **AC**: _Anopheles coluzzi_\n",
    "* **C**: Country code\n",
    "    * **B**: Burkina Faso\n",
    "    * **T**: Tanzania\n",
    "    * **S**: Scotland\n",
    "* **xx**: Age of the mosquito in days\n",
    "* **yy**: Status of the mosquito\n",
    "    * **BF**: Blood fed\n",
    "    * **SF**: Sugar fed\n",
    "    * **UF**: Unfed\n",
    "    * **GR**: Gravid\n",
    "* **zz**: Insecticide resistance\n",
    "    * **RE**: Resistant\n",
    "    * **SU**: Susceptible\n",
    "    * **UN**: Unknown\n",
    "* **mm**: Rear conditions\n",
    "    * **TL**: Time course lab\n",
    "    * **TF**: Time course field\n",
    "    * **VF**: Validation Field\n",
    "* **888888**: Date the mosquito was measured\n",
    "* **555555**: Date the mosquito was collected\n",
    "* **33**: Mosquito number identifier (ignored during the processing)\n",
    "\n",
    "Although it is also possible to read files with the old naming systems without country code, insecticide resistance or rear conditions:\n",
    "\n",
    "```\n",
    "kk-xxD-yy-888888-555555-zz.dpt (or *.mzz)\n",
    "```\n",
    "\n",
    "```\n",
    "kk-C-xxD-yy-888888-555555-zz.dpt (or *.mzz)\n",
    "```\n",
    "\n",
    "```\n",
    "kk-C-xxD-yy-zz-888888-555555-zz.dpt (or *.mzz)\n",
    "```"
   ]
  },
  {
   "cell_type": "markdown",
   "metadata": {
    "collapsed": true
   },
   "source": [
    "Here is the algorithm to load the spectra, but first you must indicate the folder location. To do this, the easiest way to proceed is just going to a file in the folder where the spectra are, right-click on it, select properties, and, then, copy the text at the right of \"Location:\". Remember to add `\\` at the end if you are using Windows or `/` if you are using an UNIX os"
   ]
  },
  {
   "cell_type": "code",
   "execution_count": 2,
   "metadata": {},
   "outputs": [
    {
     "name": "stdout",
     "output_type": "stream",
     "text": [
      "Please, indicate the folder location: /home/josh/Documents/Mosquito_Project/New_Data/Data/MIMIdata/\n"
     ]
    }
   ],
   "source": [
    "spectra_path = input(\"Please, indicate the folder location: \")"
   ]
  },
  {
   "cell_type": "code",
   "execution_count": 3,
   "metadata": {},
   "outputs": [
    {
     "name": "stderr",
     "output_type": "stream",
     "text": [
      "100%|██████████| 41151/41151 [03:01<00:00, 226.99it/s]"
     ]
    },
    {
     "name": "stdout",
     "output_type": "stream",
     "text": [
      "This last process has lasted 181.374 s. 0 files were not read because their name\n"
     ]
    },
    {
     "name": "stderr",
     "output_type": "stream",
     "text": [
      "\n"
     ]
    }
   ],
   "source": [
    "a = time.time()\n",
    "# find all the .mzz and .dpt files in the folder (and its subfolders)\n",
    "dptfiles = []\n",
    "mzzfiles = []\n",
    "for root, dirs, files in os.walk(spectra_path):\n",
    "    for file in files:\n",
    "        if file.endswith(\".dpt\"):\n",
    "             dptfiles.append(os.path.join(root, file))\n",
    "        elif file.endswith(\".mzz\"):\n",
    "             mzzfiles.append(os.path.join(root, file))\n",
    "#If there are *.mzz files, we will not consider the *.dpt files\n",
    "if len(mzzfiles) > 0:\n",
    "    spectra_names = mzzfiles\n",
    "    mzzq = True\n",
    "else:\n",
    "    spectra_names = dptfiles\n",
    "    mzzq = False\n",
    "# we prepare the lists that are going to contain all the info collected\n",
    "matrix = []\n",
    "list_ages = []\n",
    "list_status = []\n",
    "list_species = []\n",
    "list_rear = []\n",
    "list_country = []\n",
    "wrong_named = []\n",
    "# Now we load the spectra in a matrix\n",
    "for i in tqdm(spectra_names):\n",
    "    # To obtain the info from the name of the file, first we split the name in the different sections:\n",
    "    tmp = os.path.basename(i).split(\".\")[0].split(\" \")[0].split(\"-\")\n",
    "    # The first part in all the naming systems is always the species\n",
    "    j = 0\n",
    "    species = tmp[j]\n",
    "    # Species have to be named with two letters. If not we will not consider them:\n",
    "    if len(species) != 2:\n",
    "        wrong_named.append(i)\n",
    "        continue # we don't add this spectrum to the matrix\n",
    "    # if we have passed this test, we check if the specie is already seen\n",
    "    if species in list_species:\n",
    "        pass\n",
    "    else:\n",
    "        list_species.append(species)\n",
    "    # And then we move to the country, then age\n",
    "    j += 1\n",
    "    # If there is the country code, add it\n",
    "    if len(tmp[j]) <= 2:\n",
    "        country = tmp[j]\n",
    "        if country in list_country:\n",
    "            pass\n",
    "        else:\n",
    "            list_country.append(country)\n",
    "        j += 1\n",
    "    # And because there is always somebody that forgets to add the 0 in the ages smaller than 10 days...\n",
    "    if len(tmp[j]) == 2:\n",
    "        age = '0' + tmp[j]\n",
    "    else:\n",
    "        age = tmp[j]\n",
    "    age = age[:2]\n",
    "    # Ages have to be named with three characteres. If not we will not consider them:\n",
    "    if len(age) != 2:\n",
    "        wrong_named.append(i)\n",
    "        continue # we don't add this spectrum to the matrix\n",
    "    if age in list_ages:\n",
    "        pass\n",
    "    else:\n",
    "        list_ages.append(age)\n",
    "    # The next part is the status of the mosquito\n",
    "    j += 1\n",
    "    status = tmp[j]\n",
    "    # Status have to be named with two letters. If not we will not consider them:\n",
    "    if len(status) != 2:\n",
    "        wrong_named.append(i)\n",
    "        continue # we don't add this spectrum to the matrix\n",
    "    if status in list_status:\n",
    "        pass\n",
    "    else:\n",
    "        list_status.append(status)\n",
    "    # And finally the collection and measurement dates\n",
    "    j += 1\n",
    "    # Here we check if the insecticide resistance and rear condition is stated\n",
    "    if len(tmp[j]) == 2:\n",
    "        # if it doesn't start with V or T must be the insecticide resistance (and for the time being we dont care about it)\n",
    "        if tmp[j][0] != \"V\" or tmp[j][0] != \"T\":\n",
    "            j += 1\n",
    "    # Now we check the rearing condition:\n",
    "    rear = tmp[j]\n",
    "    # Rearing conditions have to be named with two letters. If not we will not consider them:\n",
    "    if len(rear) != 2:\n",
    "        wrong_named.append(i)\n",
    "        continue # we don't add this spectrum to the matrix\n",
    "    # if we have passed this test, we check if the specie is already seen\n",
    "    if rear in list_rear:\n",
    "        pass\n",
    "    else:\n",
    "        list_rear.append(rear)\n",
    "    # And then we move to the dates\n",
    "    j += 1\n",
    "    # Now we check that the dates are well written and if not we discard the file\n",
    "    if len(tmp[j]) != 6:\n",
    "        wrong_named.append(i)\n",
    "        continue\n",
    "    try:\n",
    "        colday = time.mktime(time.strptime(tmp[j],\"%y%m%d\"))\n",
    "    except:\n",
    "        wrong_named.append(i)\n",
    "        continue\n",
    "    j += 1\n",
    "    if len(tmp[j]) != 6:\n",
    "        wrong_named.append(i)\n",
    "        continue\n",
    "    try:\n",
    "        mesday = time.mktime(time.strptime(tmp[j],\"%y%m%d\"))\n",
    "    except:\n",
    "        wrong_named.append(i)\n",
    "        continue\n",
    "    stime = abs((mesday - colday) / (3600 * 24))\n",
    "    # And finally the spectrum and its characteristics\n",
    "    if mzzq == False:\n",
    "        with open(i, 'rb') as tmp:\n",
    "            avmi = (line.replace(b'\\t',b',') for line in tmp)\n",
    "            spectrum = np.genfromtxt(avmi, delimiter=',')\n",
    "        start = spectrum[0,0]\n",
    "        end = spectrum[-1,0]\n",
    "        ls = len(spectrum)\n",
    "        spectrum = np.transpose(spectrum)[1]    \n",
    "    else:\n",
    "        with zipfile.ZipFile(i) as myzip:\n",
    "            tmpname = myzip.namelist()[0]\n",
    "            with myzip.open(tmpname) as myfile:\n",
    "                spectrum = np.genfromtxt(myfile, delimiter=',')\n",
    "        start = spectrum[0]\n",
    "        end = spectrum[1]\n",
    "        ls = int(spectrum[2])\n",
    "        spectrum = spectrum[3:]\n",
    "    matrix.append([species,age,status,country,rear,stime,[start,end,ls],spectrum])\n",
    "list_species = sorted(list_species)\n",
    "list_ages = sorted(list_ages)\n",
    "list_status = sorted(list_status)\n",
    "list_country = sorted(list_country)\n",
    "list_rear = sorted(list_rear)\n",
    "b = time.time()\n",
    "print(\"This last process has lasted \" + str(round(b-a,3)) + \" s. \" + str(len(wrong_named)) + \" files were not read because their name\")"
   ]
  },
  {
   "cell_type": "markdown",
   "metadata": {},
   "source": [
    "If you want to check which are the files that the program could not read evaluate the next cell:"
   ]
  },
  {
   "cell_type": "code",
   "execution_count": 4,
   "metadata": {},
   "outputs": [
    {
     "data": {
      "text/plain": [
       "[]"
      ]
     },
     "execution_count": 4,
     "metadata": {},
     "output_type": "execute_result"
    }
   ],
   "source": [
    "wrong_named"
   ]
  },
  {
   "cell_type": "markdown",
   "metadata": {},
   "source": [
    "The following code allows us to count the number of mosquitoes for each specie, age, and status. "
   ]
  },
  {
   "cell_type": "code",
   "execution_count": 5,
   "metadata": {},
   "outputs": [
    {
     "name": "stdout",
     "output_type": "stream",
     "text": [
      "\n",
      "Time course Field:\n",
      "                                            AA\n",
      "=============================================================================================\n",
      "    01   02   03   04   05   06   07   08   09   10   11   12   13   14   15   16   17  Total\n",
      "---------------------------------------------------------------------------------------------\n",
      "BF   0    0   96  157  101    0    0    0   71   78   71    0    0    0  102  101  101   878\n",
      "GR   0    0    0    0  102  102  101    0    0    0   98  101   91    0    0    0   82   677\n",
      "SF  71   81   95  198  206  259  325  406  303  364  195  286  331  430  312  308  213   4383\n",
      "\n",
      "Total AA : 5938.0\n",
      "                                            AC\n",
      "=============================================================================================\n",
      "    01   02   03   04   05   06   07   08   09   10   11   12   13   14   15   16   17  Total\n",
      "---------------------------------------------------------------------------------------------\n",
      "BF   0    0    0    0    0    0    0    0    0    0   60   45   32   28   39   36   31   271\n",
      "GR   0    0    0    0    0    0    0    0    0    0   33   32   35   30   43   40   49   262\n",
      "SF   0    0    0    0    0    0    0    0    0    0   48   44   43   41   38   35   41   290\n",
      "\n",
      "Total AC : 823.0\n",
      "                                            AG\n",
      "=============================================================================================\n",
      "    01   02   03   04   05   06   07   08   09   10   11   12   13   14   15   16   17  Total\n",
      "---------------------------------------------------------------------------------------------\n",
      "BF   0    0    0    0    0    0    0    0    0   34   43   26   45   55   63   44   41   351\n",
      "GR   0    0    0    0    0    0    0    0    0   41   79   42   39   48   59   42   45   395\n",
      "SF   0    0    0    0    0    0    0    0    0   41   98   45   52   91   93   45   44   509\n",
      "\n",
      "Total AG : 1255.0\n",
      "                                                                                             Total: 8016\n",
      "\n",
      "Time course Lab:\n",
      "                                            AA\n",
      "=============================================================================================\n",
      "    01   02   03   04   05   06   07   08   09   10   11   12   13   14   15   16   17  Total\n",
      "---------------------------------------------------------------------------------------------\n",
      "BF  71    0  142  102  166  101  164  101  170  110  202  101  112  102  118  101  157   2020\n",
      "GR   0    0   67    0  170  101  146  101  173  101  189  153  202   98  135  118  193   1947\n",
      "SF 248  101  237  204  348  291  519  495  612  503  536  481  555  518  511  549  499   7207\n",
      "\n",
      "Total AA : 11174.0\n",
      "                                            AC\n",
      "=============================================================================================\n",
      "    01   02   03   04   05   06   07   08   09   10   11   12   13   14   15   16   17  Total\n",
      "---------------------------------------------------------------------------------------------\n",
      "BF   0    0   80   90  136  101   88   81   68   85   83   80   98   81   84  113  129   1397\n",
      "GR   0    0    0    0   62   98   82   39   85   93   86   94   78   78   83   82  113   1073\n",
      "SF 250  186  159  158   97  146  172   98  155  132  174  125  182  128  140  136  234   2672\n",
      "\n",
      "Total AC : 5142.0\n",
      "                                            AG\n",
      "=============================================================================================\n",
      "    01   02   03   04   05   06   07   08   09   10   11   12   13   14   15   16   17  Total\n",
      "---------------------------------------------------------------------------------------------\n",
      "BF   0  134  188  199  186  197  138  173  177  183  181  173  178  182  172  187  174   2822\n",
      "GR   0    0    0   48  194  208  146  186  184  191  182  340  284  133  174  202  184   2656\n",
      "SF 435  344  246  310  290  412  467  590  569  531  507  433  478  544  555  546  555   7812\n",
      "\n",
      "Total AG : 13290.0\n",
      "                                                                                             Total: 29606\n",
      "\n",
      "Validation Field:\n",
      "                                            AA\n",
      "=============================================================================================\n",
      "    01   02   03   04   05   06   07   08   09   10   11   12   13   14   15   16   17  Total\n",
      "---------------------------------------------------------------------------------------------\n",
      "BF   0    0    0    0    0    0    0    0    0    0    0    0    0    0    0    0    0     0\n",
      "GR   0    0    0    0    0    0    0    0    0    0    0    0    0    0    0    0    0     0\n",
      "SF 113    0    0  101  136  104  106  102  112  102  106  135  106   98   96    0    0   1417\n",
      "\n",
      "Total AA : 1417.0\n",
      "                                            AC\n",
      "=============================================================================================\n",
      "    01   02   03   04   05   06   07   08   09   10   11   12   13   14   15   16   17  Total\n",
      "---------------------------------------------------------------------------------------------\n",
      "BF   0    0    0    0    0    0    0    0    0    0    0    0    0    0    0    0    0     0\n",
      "GR   0    0    0    0    0    0    0    0    0    0    0    0    0    0    0    0    0     0\n",
      "SF  59    0    0   60    0    0   57    0    0   52    0    0    0    0   20    0    0   248\n",
      "\n",
      "Total AC : 248.0\n",
      "                                            AG\n",
      "=============================================================================================\n",
      "    01   02   03   04   05   06   07   08   09   10   11   12   13   14   15   16   17  Total\n",
      "---------------------------------------------------------------------------------------------\n",
      "BF   0    0    0    9    0    0    0    0    0    0    0    0    0    0    0    0    0     9\n",
      "GR   0    0    0    0    0    0    0    0    0    0    0    0    0    0    0    0    0     0\n",
      "SF 174    0    0  161  111  113  156  119  112  151  101  101  101  101  152  101  101   1855\n",
      "\n",
      "Total AG : 1864.0\n",
      "                                                                                             Total: 3529\n",
      "\n"
     ]
    }
   ],
   "source": [
    "mos_acc = []\n",
    "for j in range(len(list_rear)):\n",
    "    mos_acc.append(np.zeros((len(list_species),len(list_status),len(list_ages)),dtype=int)) # We create an empty table for the \n",
    "    for i in range(len(matrix)):\n",
    "        if matrix[i][4] == list_rear[j]:\n",
    "            x = list_species.index(matrix[i][0])\n",
    "            y = list_status.index(matrix[i][2])\n",
    "            z = list_ages.index(matrix[i][1])\n",
    "            mos_acc[j][x][y][z] += 1\n",
    "            \n",
    "mos_acc_2 = [np.zeros((3,3)) for i in range(3)]\n",
    "for i in range(len(mos_acc)):\n",
    "    for j in range(mos_acc[0].shape[0]):\n",
    "        for k in range(mos_acc[0].shape[1]):\n",
    "            mos_acc_2[i][j][k] = np.sum(mos_acc[i][j][k])\n",
    "\n",
    "# We show it in a beautiful way\n",
    "width = ((len(list_ages) + 2) * 5) - 2\n",
    "print()\n",
    "for j in range(len(list_rear)):\n",
    "    if list_rear[j] == \"TF\":\n",
    "        nare = \"Time course Field:\"\n",
    "    elif list_rear[j] == \"TL\":\n",
    "        nare = \"Time course Lab:\"\n",
    "    else:\n",
    "        nare = \"Validation Field:\"\n",
    "    print(nare)\n",
    "    for i in range(mos_acc[j].shape[0]):\n",
    "        print(\" \" * (round(width/2) -2) + list_species[i])\n",
    "        print(\"=\" * width)\n",
    "        print(\"    \"+'   '.join(map(str, list_ages))+\"  \"+'Total') \n",
    "        print(\"-\" * width)\n",
    "        for k in range(mos_acc[j].shape[1]):\n",
    "            print(list_status[k] + \" \" + \"  \".join([\"%3.0f\" % dx for dx in mos_acc[j][i][k]]) + \"   \" + \"\".join(\"%3.0f\" % mos_acc_2[j][i][k]))\n",
    "        print()\n",
    "        print(('Total '+list_species[i]+' : '+str(np.sum(mos_acc_2[j][i]))))\n",
    "    print(\" \" * width + \"Total: \" + str(np.sum(mos_acc[j])))\n",
    "    print()"
   ]
  },
  {
   "cell_type": "markdown",
   "metadata": {},
   "source": [
    "## Detection of bad spectra"
   ]
  },
  {
   "cell_type": "markdown",
   "metadata": {},
   "source": [
    "### Spectra with low intensity"
   ]
  },
  {
   "cell_type": "markdown",
   "metadata": {},
   "source": [
    "If the mosquito was not well placed at the ATR's crystal, the intensity of the whole spectrum is small. Our experience says that we can use as reference the small plateau between 400 and 500 wavenumbers that the mosquito spectra usually have. Since, the spectrometer with ZnSe optics only can reach to 500 wavenumbers, it doesn matter if we extend this range to 600 cm<sup>-1</sup>. Then if the average of this reference is smaller than 0.11, the spectrum doesn't have enough quality to be scaled and, then, of course, employed."
   ]
  },
  {
   "cell_type": "code",
   "execution_count": 6,
   "metadata": {},
   "outputs": [
    {
     "name": "stdout",
     "output_type": "stream",
     "text": [
      "943 spectra have been discarded because their low intensity\n"
     ]
    }
   ],
   "source": [
    "# A list of the discarted spectra will be collected:\n",
    "bad_spectra = []\n",
    "for i in range(len(matrix)):\n",
    "    # first we calculate the position of the points that comprise that section of the spectrum\n",
    "    if matrix[i][6][1] < 600 and matrix[i][6][1] > 400:\n",
    "        sta = int(round((((matrix[i][6][2] - 1) / (matrix[i][6][1] - matrix[i][6][0])) * (600 - matrix[i][6][0])) + 1)) - 1\n",
    "        end = matrix[i][6][2]\n",
    "    elif matrix[i][6][1] <= 400:\n",
    "        sta = int(round((((matrix[i][6][2] - 1) / (matrix[i][6][1] - matrix[i][6][0])) * (600 - matrix[i][6][0])) + 1)) - 1\n",
    "        end = int(round((((matrix[i][6][2] - 1) / (matrix[i][6][1] - matrix[i][6][0])) * (400 - matrix[i][6][0])) + 1)) - 1\n",
    "    else:\n",
    "        sta = 0 # if the spectrum doesn't reach 600 cm-1 we cannot prove if the spectrum has enough intensity\n",
    "        raise Exception(\"The spectrum {} doesn't reach 600 cm-1\".format(spectra_names[1]))\n",
    "    # Now we check the intensity of the spectra in that region. If is not over 0.1 we discard the spectrum\n",
    "    if np.average(matrix[i][7][sta:end]) < 0.11:\n",
    "        bad_spectra.append(\"LI: \" + spectra_names[i])\n",
    "        matrix[i] = None\n",
    "if (bad_spectra) == 1:\n",
    "    print(\"1 spectrum has been discarded because its low intensity\")\n",
    "else:\n",
    "    print(str(len(bad_spectra)) + \" spectra have been discarded because their low intensity\")"
   ]
  },
  {
   "cell_type": "markdown",
   "metadata": {},
   "source": [
    "### Spectra with atmospheric interferences"
   ]
  },
  {
   "cell_type": "markdown",
   "metadata": {},
   "source": [
    "If the spectra were measured after the change of the beamspliter or after installing the ATR and the background was not correctly measured, the spectra will be with the interference of the water and CO<sub>2</sub> spectra. In the case of water vapour, its IR spectrum has three bands very noisy: one between 4000 and 3400 cm<sup>-1</sup>, other between 2200 and 1300 cm<sup>-1</sup> and the last one starts to appear below 800 cm<sup>-1</sup>. Because the second band appears exactly were the most interesting bands of the mosquitoes are, we are going to use the first band to detect the spectra contaminated by the water vapor and remove it from our data. In order to do that we check how smooth are the spectra between 3900 and 3500 cm<sup>-1</sup>, fitting that region to a polynomial. Only the spectra without noise will fit well."
   ]
  },
  {
   "cell_type": "code",
   "execution_count": 7,
   "metadata": {},
   "outputs": [
    {
     "name": "stdout",
     "output_type": "stream",
     "text": [
      "4379 spectra have been discarded because have atmospheric interferences\n"
     ]
    }
   ],
   "source": [
    "bs = 0 # counter for the number of spectra discarderd\n",
    "\n",
    "# Now we define a function to calculate the R-squared coefficient of the fitting of our data to a polynomial\n",
    "def rs_pf(x, y, degree):\n",
    "    coeffs = np.polyfit(x, y, degree)\n",
    "    # r-squared\n",
    "    p = np.poly1d(coeffs)\n",
    "    # fit values, and mean\n",
    "    yhat = p(x)                         # or [p(z) for z in x]\n",
    "    ybar = np.sum(y)/len(y)          # or sum(y)/len(y)\n",
    "    ssreg = np.sum((yhat-ybar)**2)   # or sum([ (yihat - ybar)**2 for yihat in yhat])\n",
    "    sstot = np.sum((y - ybar)**2)    # or sum([ (yi - ybar)**2 for yi in y])\n",
    "    results = ssreg / sstot\n",
    "\n",
    "    return results\n",
    "\n",
    "# Here take that the section of the data between 3900 and 3500 cm-1 and check if it fits well to a 5th degree polinomial\n",
    "for i in range(len(matrix)):\n",
    "    if matrix[i]: #to check if we have spectra\n",
    "        # Now one would spect that the spectrum will reach 3900 so the program will not check it out.\n",
    "        sta = int(round((((matrix[i][6][2] - 1) / (matrix[i][6][1] - matrix[i][6][0])) * (3900 - matrix[i][6][0])) + 1)) - 1\n",
    "        end = int(round((((matrix[i][6][2] - 1) / (matrix[i][6][1] - matrix[i][6][0])) * (3500 - matrix[i][6][0])) + 1)) - 1\n",
    "        # we take that data:\n",
    "        yd = matrix[i][7][sta:end]\n",
    "        xd = list(range(len(yd)))\n",
    "        rs = rs_pf(xd,yd,5)\n",
    "        # And now, if the fitting is bad, we discard the spectrum\n",
    "        if rs < 0.99:\n",
    "            bs +=1\n",
    "            bad_spectra.append(\"AI: \" + spectra_names[i])\n",
    "            matrix[i] = None\n",
    "if (bs) == 1:\n",
    "    print(\"1 spectrum has been discarded because has atmospheric interferences\")\n",
    "else:\n",
    "    print(str(bs) + \" spectra have been discarded because have atmospheric interferences\")   "
   ]
  },
  {
   "cell_type": "markdown",
   "metadata": {},
   "source": [
    "### Spectra shifted by the anvil"
   ]
  },
  {
   "cell_type": "markdown",
   "metadata": {},
   "source": [
    "Sometimes, when you are measuring a mosquito, the mosquito moves out of the ATR crystal and what you get is a plain spectrum without features (apart from CO<sub>2</sub> bands) but with high intensity. Sometimes these spectra pass the previous filters and it is necessary to remove them. To do it that we are going to do is to select the wavenumber with less signal from the mosquito (this wavenumber is usually 1900 cm<sup>-1</sup>) and look for outliers at that frequency."
   ]
  },
  {
   "cell_type": "code",
   "execution_count": 8,
   "metadata": {},
   "outputs": [
    {
     "name": "stdout",
     "output_type": "stream",
     "text": [
      "1168 spectra have been discarded because they were distorted by the anvil\n"
     ]
    }
   ],
   "source": [
    "bs = 0 # counter for the number of spectra discarderd \n",
    "# we calculate the fences of the data set based in a value we can choose (in statistics 1.5 times\n",
    "# the interquartile range is the inner fence and 3 time is the outer fence)\n",
    "l = 1.5\n",
    "# We look for the point at 1900 cm-1 and add it to the list of intensities\n",
    "li = []\n",
    "for i in range(len(matrix)):\n",
    "    if matrix[i]: #to check if we have spectra\n",
    "        # Now one would spect that the spectrum will reach 3900 so the program will not check it out.\n",
    "        sta = int(round((((matrix[i][6][2] - 1) / (matrix[i][6][1] - matrix[i][6][0])) * (1900 - matrix[i][6][0])) + 1)) - 1\n",
    "        li.append(matrix[i][7][sta])\n",
    "q3, q1 = np.percentile(li, [75 ,25])\n",
    "ir = q3 - q1\n",
    "for i in range(len(matrix)):\n",
    "    if matrix[i]: #to check if we have spectra\n",
    "        sta = int(round((((matrix[i][6][2] - 1) / (matrix[i][6][1] - matrix[i][6][0])) * (1900 - matrix[i][6][0])) + 1)) - 1\n",
    "        if matrix[i][7][sta] > (l * ir + q3) or matrix[i][7][sta] < (q1 - l * ir):\n",
    "            bs +=1\n",
    "            bad_spectra.append(\"SA: \" + spectra_names[i])\n",
    "            matrix[i] = None \n",
    "if (bs) == 1:\n",
    "    print(\"1 spectrum has been discarded because it was distorted by the anvil\")\n",
    "else:\n",
    "    print(str(bs) + \" spectra have been discarded because they were distorted by the anvil\")  "
   ]
  },
  {
   "cell_type": "markdown",
   "metadata": {},
   "source": [
    "### Number of mosquitoes after the filtering"
   ]
  },
  {
   "cell_type": "code",
   "execution_count": 9,
   "metadata": {},
   "outputs": [
    {
     "name": "stdout",
     "output_type": "stream",
     "text": [
      "\n",
      "Time course Field:\n",
      "                                          AA\n",
      "========================================================================================\n",
      "    01   02   03   04   05   06   07   08   09   10   11   12   13   14   15   16   17\n",
      "----------------------------------------------------------------------------------------\n",
      "BF   0    0   83  126   65    0    0    0   61   72   38    0    0    0   97   68   89\n",
      "GR   0    0    0    0   97   59   81    0    0    0   75   92   81    0    0    0   73\n",
      "SF  49   73   87  181  158  223  309  396  290  321  140  215  298  366  270  188  173\n",
      "\n",
      "Total AA : 4994.0\n",
      "                                          AC\n",
      "========================================================================================\n",
      "    01   02   03   04   05   06   07   08   09   10   11   12   13   14   15   16   17\n",
      "----------------------------------------------------------------------------------------\n",
      "BF   0    0    0    0    0    0    0    0    0    0    6    5   24   13    0   34   31\n",
      "GR   0    0    0    0    0    0    0    0    0    0    0   17   17    9   29   30   49\n",
      "SF   0    0    0    0    0    0    0    0    0    0    3    0   30   25   29   29   20\n",
      "\n",
      "Total AC : 400.0\n",
      "                                          AG\n",
      "========================================================================================\n",
      "    01   02   03   04   05   06   07   08   09   10   11   12   13   14   15   16   17\n",
      "----------------------------------------------------------------------------------------\n",
      "BF   0    0    0    0    0    0    0    0    0   16   40   20   39   53   55   37   41\n",
      "GR   0    0    0    0    0    0    0    0    0   41   77   42   35   48   44   38   44\n",
      "SF   0    0    0    0    0    0    0    0    0   39   83   21   30   84   85   45   44\n",
      "\n",
      "Total AG : 1101.0\n",
      "                                                                                        Total: 6495\n",
      "\n",
      "Time course Lab:\n",
      "                                          AA\n",
      "========================================================================================\n",
      "    01   02   03   04   05   06   07   08   09   10   11   12   13   14   15   16   17\n",
      "----------------------------------------------------------------------------------------\n",
      "BF  61    0  138   84  136   92  149   80  147   94  175   74  105   93  111   98  125\n",
      "GR   0    0   57    0  161  101  138   93  154   95  170  133  188   71  120  113  181\n",
      "SF 164   98  145  203  269  281  458  477  572  491  495  444  509  473  457  520  443\n",
      "\n",
      "Total AA : 10036.0\n",
      "                                          AC\n",
      "========================================================================================\n",
      "    01   02   03   04   05   06   07   08   09   10   11   12   13   14   15   16   17\n",
      "----------------------------------------------------------------------------------------\n",
      "BF   0    0   41   77  106   89   69   70   47   55   68   61   81   63   72   94  110\n",
      "GR   0    0    0    0   55   77   66   39   68   80   71   82   65   51   69   65  101\n",
      "SF 186  174  114  111   84  129  108   76  115   97  114   93  127   84  107   94  196\n",
      "\n",
      "Total AC : 4001.0\n",
      "                                          AG\n",
      "========================================================================================\n",
      "    01   02   03   04   05   06   07   08   09   10   11   12   13   14   15   16   17\n",
      "----------------------------------------------------------------------------------------\n",
      "BF   0  129  135  152  135  182  136  168  169  146  154  137  126  160  169  154  131\n",
      "GR   0    0    0   48  191  136  138  179  171  189  155  296  259  127  172  201  184\n",
      "SF 392  338  235  281  279  350  368  500  461  413  464  388  418  448  459  424  397\n",
      "\n",
      "Total AG : 11444.0\n",
      "                                                                                        Total: 25481\n",
      "\n",
      "Validation Field:\n",
      "                                          AA\n",
      "========================================================================================\n",
      "    01   02   03   04   05   06   07   08   09   10   11   12   13   14   15   16   17\n",
      "----------------------------------------------------------------------------------------\n",
      "BF   0    0    0    0    0    0    0    0    0    0    0    0    0    0    0    0    0\n",
      "GR   0    0    0    0    0    0    0    0    0    0    0    0    0    0    0    0    0\n",
      "SF 102    0    0   83  111   67   87   89  101   87   81   90   90   92   60    0    0\n",
      "\n",
      "Total AA : 1140.0\n",
      "                                          AC\n",
      "========================================================================================\n",
      "    01   02   03   04   05   06   07   08   09   10   11   12   13   14   15   16   17\n",
      "----------------------------------------------------------------------------------------\n",
      "BF   0    0    0    0    0    0    0    0    0    0    0    0    0    0    0    0    0\n",
      "GR   0    0    0    0    0    0    0    0    0    0    0    0    0    0    0    0    0\n",
      "SF  59    0    0   60    0    0   55    0    0   52    0    0    0    0   15    0    0\n",
      "\n",
      "Total AC : 241.0\n",
      "                                          AG\n",
      "========================================================================================\n",
      "    01   02   03   04   05   06   07   08   09   10   11   12   13   14   15   16   17\n",
      "----------------------------------------------------------------------------------------\n",
      "BF   0    0    0    6    0    0    0    0    0    0    0    0    0    0    0    0    0\n",
      "GR   0    0    0    0    0    0    0    0    0    0    0    0    0    0    0    0    0\n",
      "SF 169    0    0  129   56   76  150   87   59   89   55   58   47   71   95   72   85\n",
      "\n",
      "Total AG : 1304.0\n",
      "                                                                                        Total: 2685\n",
      "\n"
     ]
    }
   ],
   "source": [
    "mos_acc = []\n",
    "for j in range(len(list_rear)):\n",
    "    mos_acc.append(np.zeros((len(list_species),len(list_status),len(list_ages)),dtype=int)) # We create an empty table for the \n",
    "    for i in range(len(matrix)):\n",
    "        if matrix[i]:\n",
    "            if matrix[i][4] == list_rear[j]:\n",
    "                x = list_species.index(matrix[i][0])\n",
    "                y = list_status.index(matrix[i][2])\n",
    "                z = list_ages.index(matrix[i][1])\n",
    "                mos_acc[j][x][y][z] += 1\n",
    "            \n",
    "mos_acc_2 = [np.zeros((3,3)) for i in range(3)]\n",
    "for i in range(len(mos_acc)):\n",
    "    for j in range(mos_acc[0].shape[0]):\n",
    "        for k in range(mos_acc[0].shape[1]):\n",
    "            mos_acc_2[i][j][k] = np.sum(mos_acc[i][j][k])\n",
    "            \n",
    "# We show it in a beautiful way\n",
    "width = ((len(list_ages) + 1) * 5) - 2\n",
    "print()\n",
    "for j in range(len(list_rear)):\n",
    "    if list_rear[j] == \"TF\":\n",
    "        nare = \"Time course Field:\"\n",
    "    elif list_rear[j] == \"TL\":\n",
    "        nare = \"Time course Lab:\"\n",
    "    else:\n",
    "        nare = \"Validation Field:\"\n",
    "    print(nare)\n",
    "    for i in range(mos_acc[j].shape[0]):\n",
    "        print(\" \" * (round(width/2) -2) + list_species[i])\n",
    "        print(\"=\" * width)\n",
    "        print(\"    \"+'   '.join(map(str, list_ages))) \n",
    "        print(\"-\" * width)\n",
    "        for k in range(mos_acc[j].shape[1]):\n",
    "            print(list_status[k] + \" \" + \"  \".join([\"%3.0f\" % dx for dx in mos_acc[j][i][k]]))\n",
    "        print()\n",
    "        print(('Total '+list_species[i]+' : '+str(np.sum(mos_acc_2[j][i]))))\n",
    "    print(\" \" * width + \"Total: \" + str(np.sum(mos_acc[j])))\n",
    "    print()"
   ]
  },
  {
   "cell_type": "markdown",
   "metadata": {},
   "source": [
    "## Selection of the wavenumbers and data extraction"
   ]
  },
  {
   "cell_type": "markdown",
   "metadata": {},
   "source": [
    "Now, we proceed to finish the task extracting the intensity of the remaining spectra at the wavenumbers that we want.  We just need to indicate those wavenumbers at the next list (we have to select always more than one wavenumber). If we want to extract a range only write two numbers, the starting wavenumber and the ending wavenumber. "
   ]
  },
  {
   "cell_type": "code",
   "execution_count": 10,
   "metadata": {},
   "outputs": [],
   "source": [
    "wns = [3800, 550]"
   ]
  },
  {
   "cell_type": "markdown",
   "metadata": {},
   "source": [
    "This algorithm corrects the wavenumbers selected in case they contain wavenumbers that are not in our spectra range"
   ]
  },
  {
   "cell_type": "code",
   "execution_count": 11,
   "metadata": {},
   "outputs": [],
   "source": [
    "# it is very important to have the wavenumbers sorted from higher to lower\n",
    "wns.sort(reverse = True)\n",
    "\n",
    "# Now we check the lowest and highest measured wavenumbers \n",
    "a = []\n",
    "b = []\n",
    "for i in range(len(matrix)):\n",
    "    if matrix[i]:\n",
    "        a.append(matrix[i][6][0])\n",
    "        b.append(matrix[i][6][1])\n",
    "a = max(a)\n",
    "b = min(b)\n",
    "\n",
    "# If only two peaks remain, einselechta prevents the algorithm from interpreting them as a range.\n",
    "if len(wns) == 2:\n",
    "    einselechta = False\n",
    "else:\n",
    "    einselechta = True\n",
    "\n",
    "# Now we correct the wavenumbers selected that are bigger than our highest measured wavenumber\n",
    "if wns[0] > a:\n",
    "    if len(wns) == 2:\n",
    "        wns[0] = int(a)\n",
    "    else: \n",
    "        while wns[0] > a:\n",
    "            wns.pop(0)\n",
    "        if len(wns) == 1 or wns[0] < b:\n",
    "            wns.insert(0, int(a))\n",
    "    \n",
    "# And we do the same with the smaller wavenumbers:\n",
    "if wns[-1] < b:\n",
    "    if len(wns) == 2:\n",
    "        wns[-1] = int(b)\n",
    "    else:\n",
    "        while wns[-1] < b:\n",
    "            wns.pop()\n",
    "            if len(wns) == 1:\n",
    "                wns.append(int(b))\n",
    "        "
   ]
  },
  {
   "cell_type": "markdown",
   "metadata": {},
   "source": [
    "We can see in a spectrum the wavenumbers selected"
   ]
  },
  {
   "cell_type": "code",
   "execution_count": 12,
   "metadata": {},
   "outputs": [
    {
     "data": {
      "image/png": "[encoded data removed]",
      "text/plain": [
       "<Figure size 1008x504 with 1 Axes>"
      ]
     },
     "metadata": {
      "needs_background": "light"
     },
     "output_type": "display_data"
    }
   ],
   "source": [
    "# We select a random spectrum:\n",
    "n = np.random.randint(0,len(matrix)-1)\n",
    "while not matrix[n]:\n",
    "    n = np.random.randint(0,len(matrix)-1)\n",
    "\n",
    "# we prepare the data\n",
    "a = matrix[n][6][0]\n",
    "b = matrix[n][6][1]\n",
    "c = matrix[n][6][2]\n",
    "xd = [a - x/c * (a-b) for x in range(c)]\n",
    "yd = matrix[n][7]\n",
    "\n",
    "# we draw the plot\n",
    "plt.figure(figsize=(14,7))\n",
    "plt.plot(xd,yd)\n",
    "plt.xlim(a, b)\n",
    "\n",
    "# and the selected wavenumbers\n",
    "if len(wns) == 2 and einselechta == False:\n",
    "    plt.axvspan(wns[0], wns[1], facecolor='papayawhip', alpha=0.5)\n",
    "else:\n",
    "    for i in wns:\n",
    "        plt.axvline(x=i, c='black', lw=1)    \n",
    "        \n",
    "# labels\n",
    "plt.xlabel('Wavenumber')\n",
    "plt.ylabel('Absorbance')\n",
    "if len(wns) == 2 and einselechta == False:\n",
    "    plt.title('Selected Range')\n",
    "else:\n",
    "    plt.title('Selected Wavenumbers')\n",
    "\n",
    "plt.show()"
   ]
  },
  {
   "cell_type": "markdown",
   "metadata": {},
   "source": [
    "## Choose your own matrix"
   ]
  },
  {
   "cell_type": "markdown",
   "metadata": {},
   "source": [
    "Now it is the time to export the data. Since *Loco mosquito* can deal with a lot of data, here is an algorithm to select only the spectra that we want for each variable. If you want to select all the characteristics of a variable, write ``\"all\"``"
   ]
  },
  {
   "cell_type": "code",
   "execution_count": 13,
   "metadata": {},
   "outputs": [],
   "source": [
    "sel_species = \"all\"\n",
    "sel_ages = \"all\"\n",
    "sel_status = \"all\"\n",
    "sel_country = \"all\"\n",
    "sel_rear = \"all\"#\"VF\"#[\"TF\", \"TL\"]"
   ]
  },
  {
   "cell_type": "markdown",
   "metadata": {},
   "source": [
    "And now, the following algorithm will extract from the spectra the desired intensities and the desired characteristics:"
   ]
  },
  {
   "cell_type": "code",
   "execution_count": 14,
   "metadata": {},
   "outputs": [
    {
     "name": "stdout",
     "output_type": "stream",
     "text": [
      "This last process has lasted 89.059 s. The new matrix cotains 34661 spectra.\n"
     ]
    }
   ],
   "source": [
    "# We start the timer\n",
    "a = time.time()\n",
    "# We define the variable that will contain the final data\n",
    "fida = []\n",
    "csc = 0\n",
    "ssel = 0\n",
    "# If we have selected a range of wavenumbers, now it is time to change it into discrete wavenumbers\n",
    "if len(wns) == 2 and einselechta == False:\n",
    "    resolution = 2\n",
    "    if matrix[0][6][0] < wns[0]:\n",
    "        wns[0] = int(matrix[0][6][0])\n",
    "    if matrix[0][6][1] > wns[-1]:\n",
    "        wns[-1] = int(matrix[0][6][-1])+1\n",
    "    wns = list(range(wns[0],wns[1],-resolution))\n",
    "    \n",
    "# And start the algorithm to extract the info\n",
    "for i in matrix:\n",
    "    # If that item exist\n",
    "    if i:\n",
    "        # If the item has the selected characteristics\n",
    "        if sel_species == \"all\" or sel_species == \"All\" or sel_species == \"ALL\":\n",
    "            sel_species = list_species\n",
    "        if sel_ages == \"all\" or sel_ages == \"All\" or sel_ages == \"ALL\":\n",
    "            sel_ages = list_ages\n",
    "        if sel_status == \"all\" or sel_status == \"All\" or sel_status == \"ALL\":\n",
    "            sel_status = list_status\n",
    "        if sel_country == \"all\" or sel_country == \"All\" or sel_country == \"ALL\":\n",
    "            sel_country = list_country\n",
    "        if sel_rear == \"all\" or sel_rear == \"All\" or sel_rear == \"ALL\":\n",
    "            sel_rear = list_rear\n",
    "        if i[0] in sel_species and i[1] in sel_ages and i[2] in sel_status and i[3] in sel_country and i[4] in sel_rear:\n",
    "            # we count the number of spectra that are removed because are too short for the range of wavenumbers selected\n",
    "            if i[6][0] >= wns[0] and i[6][1] <= wns[-1]:\n",
    "                pos = []\n",
    "                for j in wns:\n",
    "                    pos.append(int(round((((i[6][2] - 1) / (i[6][1] - i[6][0])) * (j - i[6][0])) + 1)) - 1)\n",
    "                lint = []\n",
    "                for k in pos:\n",
    "                    lint.append(i[7][k])\n",
    "                fida.append([i[0], i[1], i[2], i[3], i[4], str(int(i[5]))] + lint)\n",
    "                ssel += 1\n",
    "            else:\n",
    "                csc += 1\n",
    "fida = sorted(fida)\n",
    "fida.insert(0,[\"Species\", \"Age\", \"Status\", \"Country\", \"RearCnd\", \"StoTime\"] + wns)\n",
    "if (csc) == 0:\n",
    "    pass\n",
    "elif (csc) == 1:\n",
    "    print(\"1 spectrum has been discarded because was shorter than the selected wavenumbers\")\n",
    "else:\n",
    "    print(str(csc) + \" spectra have been discarded because were shorter than the selected wavenumbers\")  \n",
    "b = time.time()\n",
    "print(\"This last process has lasted \" + str(round(b-a,3)) + \" s. The new matrix cotains \" + str(ssel) + \" spectra.\")"
   ]
  },
  {
   "cell_type": "markdown",
   "metadata": {},
   "source": [
    "## Exporting the matrix"
   ]
  },
  {
   "cell_type": "markdown",
   "metadata": {},
   "source": [
    "Now we export the matrix with the info in the same folder where the data were collected"
   ]
  },
  {
   "cell_type": "code",
   "execution_count": null,
   "metadata": {},
   "outputs": [],
   "source": [
    "with open(spectra_path + \"mosquitos_country.dat\", 'w') as file:\n",
    "    sc = csv.writer(file, delimiter='\\t')\n",
    "    for i in fida:\n",
    "            sc.writerow(i)"
   ]
  }
 ],
 "metadata": {
  "kernelspec": {
   "display_name": "Python 3",
   "language": "python",
   "name": "python3"
  },
  "language_info": {
   "codemirror_mode": {
    "name": "ipython",
    "version": 3
   },
   "file_extension": ".py",
   "mimetype": "text/x-python",
   "name": "python",
   "nbconvert_exporter": "python",
   "pygments_lexer": "ipython3",
   "version": "3.6.7"
  }
 },
 "nbformat": 4,
 "nbformat_minor": 2
}
